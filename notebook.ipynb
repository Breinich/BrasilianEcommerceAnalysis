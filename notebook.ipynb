{
 "cells": [
  {
   "cell_type": "markdown",
   "id": "93988510-1c63-40e4-9ed9-ffa31b828e32",
   "metadata": {},
   "source": [
    "# Brazilian E-Commerce Public Dataset by Olist\n",
    "\n",
    "The domain is e-commerce. \n",
    "\n",
    "This is a Brazilian ecommerce public dataset of orders made at Olist Store. The dataset has information of 100k orders from 2016 to 2018 made at multiple marketplaces in Brazil. Its features allows viewing an order from multiple dimensions: from order status, price, payment and freight performance to customer location, product attributes and finally reviews written by customers.\n",
    "The dataset is composed of 6 tables (csv files): customers dataset, order items dataset, order payments dataset, orders dataset, products dataset, and product category names.\n",
    "\n",
    "Our hypothesis is related to customer segmentation: analyse customer demographics, such as city, to segment the customer database to identify top performing cities. This analysis can improve customer targeting."
   ]
  },
  {
   "cell_type": "code",
   "execution_count": 1,
   "id": "2cd2af13-7516-4271-bd0c-e56024e36497",
   "metadata": {
    "tags": []
   },
   "outputs": [],
   "source": [
    "import pandas as pd\n",
    "customers = pd.read_csv('olist_customers_dataset.csv')\n",
    "items = pd.read_csv('olist_order_items_dataset.csv')\n",
    "payments = pd.read_csv('olist_order_payments_dataset.csv')\n",
    "orders = pd.read_csv('olist_orders_dataset.csv')\n",
    "products = pd.read_csv('olist_products_dataset.csv')\n",
    "names = pd.read_csv('product_category_name_translation.csv')"
   ]
  },
  {
   "cell_type": "code",
   "execution_count": 4,
   "id": "84f48e2d-94cb-4db8-9871-a250b0dfa615",
   "metadata": {
    "tags": []
   },
   "outputs": [
    {
     "data": {
      "text/plain": [
       "(99441, 4)"
      ]
     },
     "execution_count": 4,
     "metadata": {},
     "output_type": "execute_result"
    }
   ],
   "source": [
    "customers[['customer_id', 'customer_zip_code_prefix', 'customer_city', 'customer_state']].shape"
   ]
  },
  {
   "cell_type": "code",
   "execution_count": 5,
   "id": "b49d770e-5c60-47dd-8d3d-7330f6e45982",
   "metadata": {
    "tags": []
   },
   "outputs": [
    {
     "data": {
      "text/plain": [
       "(112650, 3)"
      ]
     },
     "execution_count": 5,
     "metadata": {},
     "output_type": "execute_result"
    }
   ],
   "source": [
    "items[['order_id', 'product_id', 'price']].shape"
   ]
  },
  {
   "cell_type": "code",
   "execution_count": 6,
   "id": "ca21498f-1d21-4751-9e4f-3457120b2f47",
   "metadata": {
    "tags": []
   },
   "outputs": [
    {
     "data": {
      "text/plain": [
       "(103886, 2)"
      ]
     },
     "execution_count": 6,
     "metadata": {},
     "output_type": "execute_result"
    }
   ],
   "source": [
    "payments[['order_id', 'payment_type']].shape"
   ]
  },
  {
   "cell_type": "code",
   "execution_count": 7,
   "id": "44fcf25d-a8bf-43bd-99c9-4aa437df527d",
   "metadata": {
    "tags": []
   },
   "outputs": [
    {
     "data": {
      "text/plain": [
       "(99441, 3)"
      ]
     },
     "execution_count": 7,
     "metadata": {},
     "output_type": "execute_result"
    }
   ],
   "source": [
    "orders[['order_id','customer_id','order_purchase_timestamp']].shape"
   ]
  },
  {
   "cell_type": "code",
   "execution_count": 8,
   "id": "e1e15cf4-fde0-4439-a270-07b779986993",
   "metadata": {
    "tags": []
   },
   "outputs": [
    {
     "data": {
      "text/plain": [
       "(32951, 2)"
      ]
     },
     "execution_count": 8,
     "metadata": {},
     "output_type": "execute_result"
    }
   ],
   "source": [
    "products[['product_id', 'product_category_name']].shape"
   ]
  },
  {
   "cell_type": "code",
   "execution_count": 9,
   "id": "deb11d40-3ebb-4adb-8bc7-e44e15e0ed6e",
   "metadata": {
    "tags": []
   },
   "outputs": [
    {
     "data": {
      "text/plain": [
       "(71, 2)"
      ]
     },
     "execution_count": 9,
     "metadata": {},
     "output_type": "execute_result"
    }
   ],
   "source": [
    "names.shape"
   ]
  },
  {
   "cell_type": "code",
   "execution_count": 10,
   "id": "86c8e3f9-88e1-406c-9203-01435b2d8aa4",
   "metadata": {
    "tags": []
   },
   "outputs": [
    {
     "data": {
      "text/plain": [
       "(32328, 2)"
      ]
     },
     "execution_count": 10,
     "metadata": {},
     "output_type": "execute_result"
    }
   ],
   "source": [
    "product_names = pd.DataFrame()\n",
    "product_names = pd.merge(products[['product_id', 'product_category_name']],names, on=\"product_category_name\")\n",
    "items_and_names = pd.DataFrame()\n",
    "items_and_names = pd.merge(items[['order_id', 'product_id', 'price']],product_names[['product_id', 'product_category_name_english']], on=\"product_id\")\n",
    "items_names_payments = pd.DataFrame()\n",
    "items_names_payments = pd.merge(items_and_names,payments[['order_id', 'payment_type']], on=\"order_id\")\n",
    "items_names_payments_orders = pd.DataFrame()\n",
    "items_names_payments_orders = pd.merge(items_names_payments,orders[['order_id','customer_id','order_purchase_timestamp']], on=\"order_id\")\n",
    "all = pd.DataFrame()\n",
    "all = pd.merge(items_names_payments_orders,customers[['customer_id', 'customer_zip_code_prefix', 'customer_city', 'customer_state']], on=\"customer_id\")\n",
    "all.head()"
   ]
  },
  {
   "cell_type": "code",
   "execution_count": 12,
   "id": "cd6c55d4-d95e-4bdf-8890-4c376a1ca8d7",
   "metadata": {
    "tags": []
   },
   "outputs": [
    {
     "data": {
      "text/plain": [
       "(115878, 10)"
      ]
     },
     "execution_count": 12,
     "metadata": {},
     "output_type": "execute_result"
    }
   ],
   "source": [
    "all.shape"
   ]
  },
  {
   "cell_type": "code",
   "execution_count": 13,
   "id": "e528bac7-f7b0-4a7b-b66d-4b2011c65415",
   "metadata": {
    "tags": []
   },
   "outputs": [
    {
     "data": {
      "text/plain": [
       "97255"
      ]
     },
     "execution_count": 13,
     "metadata": {},
     "output_type": "execute_result"
    }
   ],
   "source": [
    "len(all['order_id'].unique())"
   ]
  },
  {
   "cell_type": "code",
   "execution_count": 14,
   "id": "caed89ce-41e3-4e32-83b3-7c30ded28443",
   "metadata": {
    "tags": []
   },
   "outputs": [],
   "source": [
    "all = all.drop_duplicates(subset='order_id',keep='first')"
   ]
  },
  {
   "cell_type": "code",
   "execution_count": 15,
   "id": "7a900365-db80-446d-ba8e-74e66d77e600",
   "metadata": {
    "tags": []
   },
   "outputs": [
    {
     "data": {
      "text/plain": [
       "(97255, 10)"
      ]
     },
     "execution_count": 15,
     "metadata": {},
     "output_type": "execute_result"
    }
   ],
   "source": [
    "all.shape"
   ]
  },
  {
   "cell_type": "code",
   "execution_count": 18,
   "id": "a6fe9aa6-1a1b-41f3-b633-3b414191f650",
   "metadata": {},
   "outputs": [],
   "source": [
    "all.to_excel('merged.xlsx', sheet_name='Sheet1')\n",
    "all.to_csv('merged.csv')"
   ]
  },
  {
   "cell_type": "code",
   "execution_count": null,
   "id": "3f2999f5-3b7d-4619-8aea-f3c765d8668f",
   "metadata": {},
   "outputs": [],
   "source": []
  }
 ],
 "metadata": {
  "kernelspec": {
   "display_name": "Python 3 (ipykernel)",
   "language": "python",
   "name": "python3"
  },
  "language_info": {
   "codemirror_mode": {
    "name": "ipython",
    "version": 3
   },
   "file_extension": ".py",
   "mimetype": "text/x-python",
   "name": "python",
   "nbconvert_exporter": "python",
   "pygments_lexer": "ipython3",
   "version": "3.10.9"
  }
 },
 "nbformat": 4,
 "nbformat_minor": 5
}
